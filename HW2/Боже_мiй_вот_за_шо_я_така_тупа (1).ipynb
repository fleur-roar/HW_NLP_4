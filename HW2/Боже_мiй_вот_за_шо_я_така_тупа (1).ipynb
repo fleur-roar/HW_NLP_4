{
  "nbformat": 4,
  "nbformat_minor": 0,
  "metadata": {
    "colab": {
      "provenance": []
    },
    "kernelspec": {
      "name": "python3",
      "display_name": "Python 3"
    },
    "language_info": {
      "name": "python"
    }
  },
  "cells": [
    {
      "cell_type": "markdown",
      "source": [
        "### HW2 NLP"
      ],
      "metadata": {
        "id": "xbTzgl6HfwYR"
      }
    },
    {
      "cell_type": "markdown",
      "source": [
        "### Установка всего что надо!"
      ],
      "metadata": {
        "id": "2Ybn_5IeO7yg"
      }
    },
    {
      "cell_type": "code",
      "source": [
        "! pip install yt_dlp"
      ],
      "metadata": {
        "colab": {
          "base_uri": "https://localhost:8080/"
        },
        "id": "WvvnrEFwfv15",
        "outputId": "89c84501-7ca3-44ea-abca-a39af0bb4fff"
      },
      "execution_count": 1,
      "outputs": [
        {
          "output_type": "stream",
          "name": "stdout",
          "text": [
            "Requirement already satisfied: yt_dlp in /usr/local/lib/python3.10/dist-packages (2023.11.16)\n",
            "Requirement already satisfied: mutagen in /usr/local/lib/python3.10/dist-packages (from yt_dlp) (1.47.0)\n",
            "Requirement already satisfied: pycryptodomex in /usr/local/lib/python3.10/dist-packages (from yt_dlp) (3.19.0)\n",
            "Requirement already satisfied: websockets in /usr/local/lib/python3.10/dist-packages (from yt_dlp) (12.0)\n",
            "Requirement already satisfied: certifi in /usr/local/lib/python3.10/dist-packages (from yt_dlp) (2023.11.17)\n",
            "Requirement already satisfied: requests<3,>=2.31.0 in /usr/local/lib/python3.10/dist-packages (from yt_dlp) (2.31.0)\n",
            "Requirement already satisfied: urllib3<3,>=1.26.17 in /usr/local/lib/python3.10/dist-packages (from yt_dlp) (2.0.7)\n",
            "Requirement already satisfied: brotli in /usr/local/lib/python3.10/dist-packages (from yt_dlp) (1.1.0)\n",
            "Requirement already satisfied: charset-normalizer<4,>=2 in /usr/local/lib/python3.10/dist-packages (from requests<3,>=2.31.0->yt_dlp) (3.3.2)\n",
            "Requirement already satisfied: idna<4,>=2.5 in /usr/local/lib/python3.10/dist-packages (from requests<3,>=2.31.0->yt_dlp) (3.6)\n"
          ]
        }
      ]
    },
    {
      "cell_type": "code",
      "source": [
        "! pip install SpeechRecognition"
      ],
      "metadata": {
        "colab": {
          "base_uri": "https://localhost:8080/"
        },
        "id": "VSlRoi3nvvfo",
        "outputId": "06fcb13d-7247-437c-97a6-843faea957c7"
      },
      "execution_count": 12,
      "outputs": [
        {
          "output_type": "stream",
          "name": "stdout",
          "text": [
            "Collecting SpeechRecognition\n",
            "  Downloading SpeechRecognition-3.10.1-py2.py3-none-any.whl (32.8 MB)\n",
            "\u001b[2K     \u001b[90m━━━━━━━━━━━━━━━━━━━━━━━━━━━━━━━━━━━━━━━━\u001b[0m \u001b[32m32.8/32.8 MB\u001b[0m \u001b[31m22.9 MB/s\u001b[0m eta \u001b[36m0:00:00\u001b[0m\n",
            "\u001b[?25hRequirement already satisfied: requests>=2.26.0 in /usr/local/lib/python3.10/dist-packages (from SpeechRecognition) (2.31.0)\n",
            "Requirement already satisfied: typing-extensions in /usr/local/lib/python3.10/dist-packages (from SpeechRecognition) (4.5.0)\n",
            "Requirement already satisfied: charset-normalizer<4,>=2 in /usr/local/lib/python3.10/dist-packages (from requests>=2.26.0->SpeechRecognition) (3.3.2)\n",
            "Requirement already satisfied: idna<4,>=2.5 in /usr/local/lib/python3.10/dist-packages (from requests>=2.26.0->SpeechRecognition) (3.6)\n",
            "Requirement already satisfied: urllib3<3,>=1.21.1 in /usr/local/lib/python3.10/dist-packages (from requests>=2.26.0->SpeechRecognition) (2.0.7)\n",
            "Requirement already satisfied: certifi>=2017.4.17 in /usr/local/lib/python3.10/dist-packages (from requests>=2.26.0->SpeechRecognition) (2023.11.17)\n",
            "Installing collected packages: SpeechRecognition\n",
            "Successfully installed SpeechRecognition-3.10.1\n"
          ]
        }
      ]
    },
    {
      "cell_type": "code",
      "source": [
        "!pip install pocketsphinx"
      ],
      "metadata": {
        "colab": {
          "base_uri": "https://localhost:8080/"
        },
        "id": "cZ3NO70Wbxvn",
        "outputId": "8c72f9c0-cccc-4d4c-ef14-9bb11c6244c8"
      },
      "execution_count": 15,
      "outputs": [
        {
          "output_type": "stream",
          "name": "stdout",
          "text": [
            "Collecting pocketsphinx\n",
            "  Downloading pocketsphinx-5.0.2-cp310-cp310-manylinux_2_17_x86_64.manylinux2014_x86_64.whl (29.2 MB)\n",
            "\u001b[2K     \u001b[90m━━━━━━━━━━━━━━━━━━━━━━━━━━━━━━━━━━━━━━━━\u001b[0m \u001b[32m29.2/29.2 MB\u001b[0m \u001b[31m19.3 MB/s\u001b[0m eta \u001b[36m0:00:00\u001b[0m\n",
            "\u001b[?25hCollecting sounddevice (from pocketsphinx)\n",
            "  Downloading sounddevice-0.4.6-py3-none-any.whl (31 kB)\n",
            "Requirement already satisfied: CFFI>=1.0 in /usr/local/lib/python3.10/dist-packages (from sounddevice->pocketsphinx) (1.16.0)\n",
            "Requirement already satisfied: pycparser in /usr/local/lib/python3.10/dist-packages (from CFFI>=1.0->sounddevice->pocketsphinx) (2.21)\n",
            "Installing collected packages: sounddevice, pocketsphinx\n",
            "Successfully installed pocketsphinx-5.0.2 sounddevice-0.4.6\n"
          ]
        }
      ]
    },
    {
      "cell_type": "code",
      "source": [
        "! pip install openai-whisper"
      ],
      "metadata": {
        "colab": {
          "base_uri": "https://localhost:8080/"
        },
        "id": "pU8foK40jHof",
        "outputId": "fc5f6a4b-49a3-4581-d303-315edec6e943"
      },
      "execution_count": 22,
      "outputs": [
        {
          "output_type": "stream",
          "name": "stdout",
          "text": [
            "Collecting openai-whisper\n",
            "  Downloading openai-whisper-20231117.tar.gz (798 kB)\n",
            "\u001b[?25l     \u001b[90m━━━━━━━━━━━━━━━━━━━━━━━━━━━━━━━━━━━━━━━━\u001b[0m \u001b[32m0.0/798.6 kB\u001b[0m \u001b[31m?\u001b[0m eta \u001b[36m-:--:--\u001b[0m\r\u001b[2K     \u001b[91m━━━\u001b[0m\u001b[90m╺\u001b[0m\u001b[90m━━━━━━━━━━━━━━━━━━━━━━━━━━━━━━━━━━━━\u001b[0m \u001b[32m61.4/798.6 kB\u001b[0m \u001b[31m1.8 MB/s\u001b[0m eta \u001b[36m0:00:01\u001b[0m\r\u001b[2K     \u001b[91m━━━━━━━━━━━━━━━━━━━━━━━━\u001b[0m\u001b[90m╺\u001b[0m\u001b[90m━━━━━━━━━━━━━━━\u001b[0m \u001b[32m481.3/798.6 kB\u001b[0m \u001b[31m6.9 MB/s\u001b[0m eta \u001b[36m0:00:01\u001b[0m\r\u001b[2K     \u001b[90m━━━━━━━━━━━━━━━━━━━━━━━━━━━━━━━━━━━━━━━━\u001b[0m \u001b[32m798.6/798.6 kB\u001b[0m \u001b[31m7.9 MB/s\u001b[0m eta \u001b[36m0:00:00\u001b[0m\n",
            "\u001b[?25h  Installing build dependencies ... \u001b[?25l\u001b[?25hdone\n",
            "  Getting requirements to build wheel ... \u001b[?25l\u001b[?25hdone\n",
            "  Preparing metadata (pyproject.toml) ... \u001b[?25l\u001b[?25hdone\n",
            "Requirement already satisfied: triton<3,>=2.0.0 in /usr/local/lib/python3.10/dist-packages (from openai-whisper) (2.1.0)\n",
            "Requirement already satisfied: numba in /usr/local/lib/python3.10/dist-packages (from openai-whisper) (0.58.1)\n",
            "Requirement already satisfied: numpy in /usr/local/lib/python3.10/dist-packages (from openai-whisper) (1.23.5)\n",
            "Requirement already satisfied: torch in /usr/local/lib/python3.10/dist-packages (from openai-whisper) (2.1.0+cu121)\n",
            "Requirement already satisfied: tqdm in /usr/local/lib/python3.10/dist-packages (from openai-whisper) (4.66.1)\n",
            "Requirement already satisfied: more-itertools in /usr/local/lib/python3.10/dist-packages (from openai-whisper) (10.1.0)\n",
            "Collecting tiktoken (from openai-whisper)\n",
            "  Downloading tiktoken-0.5.2-cp310-cp310-manylinux_2_17_x86_64.manylinux2014_x86_64.whl (2.0 MB)\n",
            "\u001b[2K     \u001b[90m━━━━━━━━━━━━━━━━━━━━━━━━━━━━━━━━━━━━━━━━\u001b[0m \u001b[32m2.0/2.0 MB\u001b[0m \u001b[31m15.5 MB/s\u001b[0m eta \u001b[36m0:00:00\u001b[0m\n",
            "\u001b[?25hRequirement already satisfied: filelock in /usr/local/lib/python3.10/dist-packages (from triton<3,>=2.0.0->openai-whisper) (3.13.1)\n",
            "Requirement already satisfied: llvmlite<0.42,>=0.41.0dev0 in /usr/local/lib/python3.10/dist-packages (from numba->openai-whisper) (0.41.1)\n",
            "Requirement already satisfied: regex>=2022.1.18 in /usr/local/lib/python3.10/dist-packages (from tiktoken->openai-whisper) (2023.6.3)\n",
            "Requirement already satisfied: requests>=2.26.0 in /usr/local/lib/python3.10/dist-packages (from tiktoken->openai-whisper) (2.31.0)\n",
            "Requirement already satisfied: typing-extensions in /usr/local/lib/python3.10/dist-packages (from torch->openai-whisper) (4.5.0)\n",
            "Requirement already satisfied: sympy in /usr/local/lib/python3.10/dist-packages (from torch->openai-whisper) (1.12)\n",
            "Requirement already satisfied: networkx in /usr/local/lib/python3.10/dist-packages (from torch->openai-whisper) (3.2.1)\n",
            "Requirement already satisfied: jinja2 in /usr/local/lib/python3.10/dist-packages (from torch->openai-whisper) (3.1.2)\n",
            "Requirement already satisfied: fsspec in /usr/local/lib/python3.10/dist-packages (from torch->openai-whisper) (2023.6.0)\n",
            "Requirement already satisfied: charset-normalizer<4,>=2 in /usr/local/lib/python3.10/dist-packages (from requests>=2.26.0->tiktoken->openai-whisper) (3.3.2)\n",
            "Requirement already satisfied: idna<4,>=2.5 in /usr/local/lib/python3.10/dist-packages (from requests>=2.26.0->tiktoken->openai-whisper) (3.6)\n",
            "Requirement already satisfied: urllib3<3,>=1.21.1 in /usr/local/lib/python3.10/dist-packages (from requests>=2.26.0->tiktoken->openai-whisper) (2.0.7)\n",
            "Requirement already satisfied: certifi>=2017.4.17 in /usr/local/lib/python3.10/dist-packages (from requests>=2.26.0->tiktoken->openai-whisper) (2023.11.17)\n",
            "Requirement already satisfied: MarkupSafe>=2.0 in /usr/local/lib/python3.10/dist-packages (from jinja2->torch->openai-whisper) (2.1.3)\n",
            "Requirement already satisfied: mpmath>=0.19 in /usr/local/lib/python3.10/dist-packages (from sympy->torch->openai-whisper) (1.3.0)\n",
            "Building wheels for collected packages: openai-whisper\n",
            "  Building wheel for openai-whisper (pyproject.toml) ... \u001b[?25l\u001b[?25hdone\n",
            "  Created wheel for openai-whisper: filename=openai_whisper-20231117-py3-none-any.whl size=801356 sha256=2fcbcdd14c1725da683f9d58cd556a1938f96282ac8130bdeb2ea3206697a90d\n",
            "  Stored in directory: /root/.cache/pip/wheels/d0/85/e1/9361b4cbea7dd4b7f6702fa4c3afc94877952eeb2b62f45f56\n",
            "Successfully built openai-whisper\n",
            "Installing collected packages: tiktoken, openai-whisper\n",
            "\u001b[31mERROR: pip's dependency resolver does not currently take into account all the packages that are installed. This behaviour is the source of the following dependency conflicts.\n",
            "llmx 0.0.15a0 requires cohere, which is not installed.\n",
            "llmx 0.0.15a0 requires openai, which is not installed.\u001b[0m\u001b[31m\n",
            "\u001b[0mSuccessfully installed openai-whisper-20231117 tiktoken-0.5.2\n"
          ]
        }
      ]
    },
    {
      "cell_type": "code",
      "source": [
        "! pip3 install deepgram-sdk"
      ],
      "metadata": {
        "colab": {
          "base_uri": "https://localhost:8080/"
        },
        "id": "q0k9u0yXzfMI",
        "outputId": "6dab3eaa-0fcd-4df5-fc3d-7181845ae4ee"
      },
      "execution_count": 43,
      "outputs": [
        {
          "output_type": "stream",
          "name": "stdout",
          "text": [
            "Collecting deepgram-sdk\n",
            "  Downloading deepgram_sdk-2.12.0-py3-none-any.whl (25 kB)\n",
            "Requirement already satisfied: aiohttp in /usr/local/lib/python3.10/dist-packages (from deepgram-sdk) (3.9.1)\n",
            "Requirement already satisfied: websockets in /usr/local/lib/python3.10/dist-packages (from deepgram-sdk) (12.0)\n",
            "Requirement already satisfied: attrs>=17.3.0 in /usr/local/lib/python3.10/dist-packages (from aiohttp->deepgram-sdk) (23.1.0)\n",
            "Requirement already satisfied: multidict<7.0,>=4.5 in /usr/local/lib/python3.10/dist-packages (from aiohttp->deepgram-sdk) (6.0.4)\n",
            "Requirement already satisfied: yarl<2.0,>=1.0 in /usr/local/lib/python3.10/dist-packages (from aiohttp->deepgram-sdk) (1.9.4)\n",
            "Requirement already satisfied: frozenlist>=1.1.1 in /usr/local/lib/python3.10/dist-packages (from aiohttp->deepgram-sdk) (1.4.0)\n",
            "Requirement already satisfied: aiosignal>=1.1.2 in /usr/local/lib/python3.10/dist-packages (from aiohttp->deepgram-sdk) (1.3.1)\n",
            "Requirement already satisfied: async-timeout<5.0,>=4.0 in /usr/local/lib/python3.10/dist-packages (from aiohttp->deepgram-sdk) (4.0.3)\n",
            "Requirement already satisfied: idna>=2.0 in /usr/local/lib/python3.10/dist-packages (from yarl<2.0,>=1.0->aiohttp->deepgram-sdk) (3.6)\n",
            "Installing collected packages: deepgram-sdk\n",
            "Successfully installed deepgram-sdk-2.12.0\n"
          ]
        }
      ]
    },
    {
      "cell_type": "code",
      "source": [
        "! pip install pydub"
      ],
      "metadata": {
        "colab": {
          "base_uri": "https://localhost:8080/"
        },
        "id": "5LKUOniSpVij",
        "outputId": "6f94fd2d-c3c1-4b55-fbf9-6f17ce4c5ff2"
      },
      "execution_count": 31,
      "outputs": [
        {
          "output_type": "stream",
          "name": "stdout",
          "text": [
            "Requirement already satisfied: pydub in /usr/local/lib/python3.10/dist-packages (0.25.1)\n"
          ]
        }
      ]
    },
    {
      "cell_type": "code",
      "source": [
        "! pip install webvtt-py"
      ],
      "metadata": {
        "colab": {
          "base_uri": "https://localhost:8080/"
        },
        "id": "Z-h7C18axXMn",
        "outputId": "343194cb-f6a0-4599-d1ca-1d80119cf84c"
      },
      "execution_count": 8,
      "outputs": [
        {
          "output_type": "stream",
          "name": "stdout",
          "text": [
            "Collecting webvtt-py\n",
            "  Downloading webvtt_py-0.4.6-py3-none-any.whl (16 kB)\n",
            "Collecting docopt (from webvtt-py)\n",
            "  Downloading docopt-0.6.2.tar.gz (25 kB)\n",
            "  Preparing metadata (setup.py) ... \u001b[?25l\u001b[?25hdone\n",
            "Building wheels for collected packages: docopt\n",
            "  Building wheel for docopt (setup.py) ... \u001b[?25l\u001b[?25hdone\n",
            "  Created wheel for docopt: filename=docopt-0.6.2-py2.py3-none-any.whl size=13706 sha256=00e130f8c4a60f30a26509f3ddbb4e715a413fe43c6211882de860b0244046b0\n",
            "  Stored in directory: /root/.cache/pip/wheels/fc/ab/d4/5da2067ac95b36618c629a5f93f809425700506f72c9732fac\n",
            "Successfully built docopt\n",
            "Installing collected packages: docopt, webvtt-py\n",
            "Successfully installed docopt-0.6.2 webvtt-py-0.4.6\n"
          ]
        }
      ]
    },
    {
      "cell_type": "code",
      "source": [
        "!pip install evaluate"
      ],
      "metadata": {
        "colab": {
          "base_uri": "https://localhost:8080/"
        },
        "id": "UjugMBJ4HTv8",
        "outputId": "e2ada00d-a953-415c-f1b7-4f402b86d9ed"
      },
      "execution_count": 2,
      "outputs": [
        {
          "output_type": "stream",
          "name": "stdout",
          "text": [
            "Collecting evaluate\n",
            "  Downloading evaluate-0.4.1-py3-none-any.whl (84 kB)\n",
            "\u001b[2K     \u001b[90m━━━━━━━━━━━━━━━━━━━━━━━━━━━━━━━━━━━━━━━━\u001b[0m \u001b[32m84.1/84.1 kB\u001b[0m \u001b[31m673.1 kB/s\u001b[0m eta \u001b[36m0:00:00\u001b[0m\n",
            "\u001b[?25hCollecting datasets>=2.0.0 (from evaluate)\n",
            "  Downloading datasets-2.15.0-py3-none-any.whl (521 kB)\n",
            "\u001b[2K     \u001b[90m━━━━━━━━━━━━━━━━━━━━━━━━━━━━━━━━━━━━━━━━\u001b[0m \u001b[32m521.2/521.2 kB\u001b[0m \u001b[31m8.6 MB/s\u001b[0m eta \u001b[36m0:00:00\u001b[0m\n",
            "\u001b[?25hRequirement already satisfied: numpy>=1.17 in /usr/local/lib/python3.10/dist-packages (from evaluate) (1.23.5)\n",
            "Collecting dill (from evaluate)\n",
            "  Downloading dill-0.3.7-py3-none-any.whl (115 kB)\n",
            "\u001b[2K     \u001b[90m━━━━━━━━━━━━━━━━━━━━━━━━━━━━━━━━━━━━━━━━\u001b[0m \u001b[32m115.3/115.3 kB\u001b[0m \u001b[31m10.8 MB/s\u001b[0m eta \u001b[36m0:00:00\u001b[0m\n",
            "\u001b[?25hRequirement already satisfied: pandas in /usr/local/lib/python3.10/dist-packages (from evaluate) (1.5.3)\n",
            "Requirement already satisfied: requests>=2.19.0 in /usr/local/lib/python3.10/dist-packages (from evaluate) (2.31.0)\n",
            "Requirement already satisfied: tqdm>=4.62.1 in /usr/local/lib/python3.10/dist-packages (from evaluate) (4.66.1)\n",
            "Requirement already satisfied: xxhash in /usr/local/lib/python3.10/dist-packages (from evaluate) (3.4.1)\n",
            "Collecting multiprocess (from evaluate)\n",
            "  Downloading multiprocess-0.70.15-py310-none-any.whl (134 kB)\n",
            "\u001b[2K     \u001b[90m━━━━━━━━━━━━━━━━━━━━━━━━━━━━━━━━━━━━━━━━\u001b[0m \u001b[32m134.8/134.8 kB\u001b[0m \u001b[31m9.0 MB/s\u001b[0m eta \u001b[36m0:00:00\u001b[0m\n",
            "\u001b[?25hRequirement already satisfied: fsspec[http]>=2021.05.0 in /usr/local/lib/python3.10/dist-packages (from evaluate) (2023.6.0)\n",
            "Requirement already satisfied: huggingface-hub>=0.7.0 in /usr/local/lib/python3.10/dist-packages (from evaluate) (0.19.4)\n",
            "Requirement already satisfied: packaging in /usr/local/lib/python3.10/dist-packages (from evaluate) (23.2)\n",
            "Collecting responses<0.19 (from evaluate)\n",
            "  Downloading responses-0.18.0-py3-none-any.whl (38 kB)\n",
            "Requirement already satisfied: pyarrow>=8.0.0 in /usr/local/lib/python3.10/dist-packages (from datasets>=2.0.0->evaluate) (10.0.1)\n",
            "Collecting pyarrow-hotfix (from datasets>=2.0.0->evaluate)\n",
            "  Downloading pyarrow_hotfix-0.6-py3-none-any.whl (7.9 kB)\n",
            "Requirement already satisfied: aiohttp in /usr/local/lib/python3.10/dist-packages (from datasets>=2.0.0->evaluate) (3.9.1)\n",
            "Requirement already satisfied: pyyaml>=5.1 in /usr/local/lib/python3.10/dist-packages (from datasets>=2.0.0->evaluate) (6.0.1)\n",
            "Requirement already satisfied: filelock in /usr/local/lib/python3.10/dist-packages (from huggingface-hub>=0.7.0->evaluate) (3.13.1)\n",
            "Requirement already satisfied: typing-extensions>=3.7.4.3 in /usr/local/lib/python3.10/dist-packages (from huggingface-hub>=0.7.0->evaluate) (4.5.0)\n",
            "Requirement already satisfied: charset-normalizer<4,>=2 in /usr/local/lib/python3.10/dist-packages (from requests>=2.19.0->evaluate) (3.3.2)\n",
            "Requirement already satisfied: idna<4,>=2.5 in /usr/local/lib/python3.10/dist-packages (from requests>=2.19.0->evaluate) (3.6)\n",
            "Requirement already satisfied: urllib3<3,>=1.21.1 in /usr/local/lib/python3.10/dist-packages (from requests>=2.19.0->evaluate) (2.0.7)\n",
            "Requirement already satisfied: certifi>=2017.4.17 in /usr/local/lib/python3.10/dist-packages (from requests>=2.19.0->evaluate) (2023.11.17)\n",
            "Requirement already satisfied: python-dateutil>=2.8.1 in /usr/local/lib/python3.10/dist-packages (from pandas->evaluate) (2.8.2)\n",
            "Requirement already satisfied: pytz>=2020.1 in /usr/local/lib/python3.10/dist-packages (from pandas->evaluate) (2023.3.post1)\n",
            "Requirement already satisfied: attrs>=17.3.0 in /usr/local/lib/python3.10/dist-packages (from aiohttp->datasets>=2.0.0->evaluate) (23.1.0)\n",
            "Requirement already satisfied: multidict<7.0,>=4.5 in /usr/local/lib/python3.10/dist-packages (from aiohttp->datasets>=2.0.0->evaluate) (6.0.4)\n",
            "Requirement already satisfied: yarl<2.0,>=1.0 in /usr/local/lib/python3.10/dist-packages (from aiohttp->datasets>=2.0.0->evaluate) (1.9.4)\n",
            "Requirement already satisfied: frozenlist>=1.1.1 in /usr/local/lib/python3.10/dist-packages (from aiohttp->datasets>=2.0.0->evaluate) (1.4.1)\n",
            "Requirement already satisfied: aiosignal>=1.1.2 in /usr/local/lib/python3.10/dist-packages (from aiohttp->datasets>=2.0.0->evaluate) (1.3.1)\n",
            "Requirement already satisfied: async-timeout<5.0,>=4.0 in /usr/local/lib/python3.10/dist-packages (from aiohttp->datasets>=2.0.0->evaluate) (4.0.3)\n",
            "Requirement already satisfied: six>=1.5 in /usr/local/lib/python3.10/dist-packages (from python-dateutil>=2.8.1->pandas->evaluate) (1.16.0)\n",
            "Installing collected packages: pyarrow-hotfix, dill, responses, multiprocess, datasets, evaluate\n",
            "Successfully installed datasets-2.15.0 dill-0.3.7 evaluate-0.4.1 multiprocess-0.70.15 pyarrow-hotfix-0.6 responses-0.18.0\n"
          ]
        }
      ]
    },
    {
      "cell_type": "code",
      "source": [
        "! pip install jiwer"
      ],
      "metadata": {
        "colab": {
          "base_uri": "https://localhost:8080/"
        },
        "id": "Nj9ak_mKIVG4",
        "outputId": "fc5c1e52-9e3f-4d05-9af3-fd05051025e7"
      },
      "execution_count": 6,
      "outputs": [
        {
          "output_type": "stream",
          "name": "stdout",
          "text": [
            "Collecting jiwer\n",
            "  Downloading jiwer-3.0.3-py3-none-any.whl (21 kB)\n",
            "Requirement already satisfied: click<9.0.0,>=8.1.3 in /usr/local/lib/python3.10/dist-packages (from jiwer) (8.1.7)\n",
            "Collecting rapidfuzz<4,>=3 (from jiwer)\n",
            "  Downloading rapidfuzz-3.5.2-cp310-cp310-manylinux_2_17_x86_64.manylinux2014_x86_64.whl (3.3 MB)\n",
            "\u001b[2K     \u001b[90m━━━━━━━━━━━━━━━━━━━━━━━━━━━━━━━━━━━━━━━━\u001b[0m \u001b[32m3.3/3.3 MB\u001b[0m \u001b[31m8.5 MB/s\u001b[0m eta \u001b[36m0:00:00\u001b[0m\n",
            "\u001b[?25hInstalling collected packages: rapidfuzz, jiwer\n",
            "Successfully installed jiwer-3.0.3 rapidfuzz-3.5.2\n"
          ]
        }
      ]
    },
    {
      "cell_type": "markdown",
      "source": [
        "### **2 балла**. Сбор аудио и субтитров."
      ],
      "metadata": {
        "id": "Jl3b2PBXR4AQ"
      }
    },
    {
      "cell_type": "markdown",
      "source": [
        "Сначала я работала с youtube-dl через терминал Ubuntu, но потом нашла, что с библиотекой yt_dlp можно работать прямо из гугл коллаба и я очень надеюсь, что (раз yt_dlp в целом работает так же как outube-dl) это тоже засчитывается за использование библиотеки!"
      ],
      "metadata": {
        "id": "20LXlo_3vY9A"
      }
    },
    {
      "cell_type": "code",
      "source": [
        "from yt_dlp import YoutubeDL"
      ],
      "metadata": {
        "id": "EVTv5UP3fv4w"
      },
      "execution_count": 2,
      "outputs": []
    },
    {
      "cell_type": "markdown",
      "source": [
        "Я качала аудио и автоматические английские субтитры из видео Vsauce."
      ],
      "metadata": {
        "id": "3RnNgYnSREX_"
      }
    },
    {
      "cell_type": "code",
      "source": [
        "# Это команда для скачивания автоматических субтитров (формат файла .vtt)\n",
        "! yt-dlp --write-auto-sub --sub-format vtt https://www.youtube.com/watch?v=VhVtK7UhKbI"
      ],
      "metadata": {
        "colab": {
          "base_uri": "https://localhost:8080/"
        },
        "id": "I9QVvunDue5V",
        "outputId": "fd6ef84c-3738-432c-ace8-cc7a7cf52350"
      },
      "execution_count": 4,
      "outputs": [
        {
          "output_type": "stream",
          "name": "stdout",
          "text": [
            "[youtube] Extracting URL: https://www.youtube.com/watch?v=VhVtK7UhKbI\n",
            "[youtube] VhVtK7UhKbI: Downloading webpage\n",
            "[youtube] VhVtK7UhKbI: Downloading ios player API JSON\n",
            "[youtube] VhVtK7UhKbI: Downloading android player API JSON\n",
            "[youtube] VhVtK7UhKbI: Downloading m3u8 information\n",
            "[info] VhVtK7UhKbI: Downloading subtitles: en\n",
            "[info] VhVtK7UhKbI: Downloading 1 format(s): 313+251\n",
            "Deleting existing file ANNOUNCING BRAIN CANDY LIVE [VhVtK7UhKbI].en.vtt\n",
            "[info] Writing video subtitles to: ANNOUNCING BRAIN CANDY LIVE [VhVtK7UhKbI].en.vtt\n",
            "[download] Destination: ANNOUNCING BRAIN CANDY LIVE [VhVtK7UhKbI].en.vtt\n",
            "\u001b[K[download] 100% of   21.25KiB in \u001b[1;37m00:00:00\u001b[0m at \u001b[0;32m696.58KiB/s\u001b[0m\n",
            "[download] ANNOUNCING BRAIN CANDY LIVE [VhVtK7UhKbI].webm has already been downloaded\n"
          ]
        }
      ]
    },
    {
      "cell_type": "code",
      "source": [
        "# Это команда для скачивания аудио в формате wav\n",
        "! yt-dlp --extract-audio --audio-format wav https://www.youtube.com/watch?v=VhVtK7UhKbI"
      ],
      "metadata": {
        "colab": {
          "base_uri": "https://localhost:8080/"
        },
        "id": "I9Z_EVIsvnWO",
        "outputId": "57cd4a0b-5815-4932-a892-d7810dbea8c4"
      },
      "execution_count": 4,
      "outputs": [
        {
          "output_type": "stream",
          "name": "stdout",
          "text": [
            "[youtube] Extracting URL: https://www.youtube.com/watch?v=VhVtK7UhKbI\n",
            "[youtube] VhVtK7UhKbI: Downloading webpage\n",
            "[youtube] VhVtK7UhKbI: Downloading ios player API JSON\n",
            "[youtube] VhVtK7UhKbI: Downloading android player API JSON\n",
            "[youtube] VhVtK7UhKbI: Downloading m3u8 information\n",
            "[info] VhVtK7UhKbI: Downloading 1 format(s): 251\n",
            "[download] ANNOUNCING BRAIN CANDY LIVE [VhVtK7UhKbI].webm has already been downloaded\n",
            "\u001b[K[download] 100% of  219.57MiB\n",
            "[ExtractAudio] Destination: ANNOUNCING BRAIN CANDY LIVE [VhVtK7UhKbI].wav\n",
            "Deleting original file ANNOUNCING BRAIN CANDY LIVE [VhVtK7UhKbI].webm (pass -k to keep)\n"
          ]
        }
      ]
    },
    {
      "cell_type": "markdown",
      "source": [
        "И тут я переименовываю долгие автоматические названия \"ANNOUNCING BRAIN CANDY...\" в \"Vsauce.wav\""
      ],
      "metadata": {
        "id": "_QQOuZTq9Zqz"
      }
    },
    {
      "cell_type": "markdown",
      "source": [
        "### **? баллов**. библиотека SpeechRecognition: sphinx & whisper."
      ],
      "metadata": {
        "id": "jVVZr1F4SQAy"
      }
    },
    {
      "cell_type": "code",
      "source": [
        "import speech_recognition as sr"
      ],
      "metadata": {
        "id": "o8Gl7ZqWSVmk"
      },
      "execution_count": 13,
      "outputs": []
    },
    {
      "cell_type": "code",
      "source": [
        "r = sr.Recognizer()\n",
        "with sr.AudioFile(\"Vsauce.wav\") as source:\n",
        "    audio = r.record(source)\n",
        "\n",
        "    sphinx_recognition = r.recognize_sphinx(audio)\n",
        "    whisper_recognition = r.recognize_whisper(audio)"
      ],
      "metadata": {
        "id": "9MxzSsF_SVtJ"
      },
      "execution_count": 51,
      "outputs": []
    },
    {
      "cell_type": "markdown",
      "source": [
        "Сравниваем и смеемся, насколько sphinx хуже:"
      ],
      "metadata": {
        "id": "0iPwF5y3_Tpc"
      }
    },
    {
      "cell_type": "code",
      "source": [
        "sphinx_recognition[:200]"
      ],
      "metadata": {
        "colab": {
          "base_uri": "https://localhost:8080/",
          "height": 53
        },
        "id": "smQul05r-01L",
        "outputId": "2d343727-08f9-4a4b-a3cc-fba92702d970"
      },
      "execution_count": 54,
      "outputs": [
        {
          "output_type": "execute_result",
          "data": {
            "text/plain": [
              "'the peace talks like to i have never made an announcement video but what we restore adam savage and i guess he added savage have been working on something delicious and nutritious and wife wants to it'"
            ],
            "application/vnd.google.colaboratory.intrinsic+json": {
              "type": "string"
            }
          },
          "metadata": {},
          "execution_count": 54
        }
      ]
    },
    {
      "cell_type": "code",
      "source": [
        "whisper_recognition[:200]"
      ],
      "metadata": {
        "colab": {
          "base_uri": "https://localhost:8080/",
          "height": 53
        },
        "id": "HMUa4VDG-5he",
        "outputId": "dc0ffbde-b8e0-4097-fb5b-12ea4a61593e"
      },
      "execution_count": 55,
      "outputs": [
        {
          "output_type": "execute_result",
          "data": {
            "text/plain": [
              "' Hey, Vsauce, Michael here. I have never made an announcement video, but what a way to start. Adam Savage and I, yes, the Adam Savage have been working on something delicious and nutritious and live o'"
            ],
            "application/vnd.google.colaboratory.intrinsic+json": {
              "type": "string"
            }
          },
          "metadata": {},
          "execution_count": 55
        }
      ]
    },
    {
      "cell_type": "markdown",
      "source": [
        "Сохраняем в файлы"
      ],
      "metadata": {
        "id": "5q4T7aAo_Yx1"
      }
    },
    {
      "cell_type": "code",
      "source": [
        "with open(\"sphinx.txt\", \"w\") as f:\n",
        "    f.write(sphinx_recognition)"
      ],
      "metadata": {
        "id": "c3fuJpHk_bBs"
      },
      "execution_count": 56,
      "outputs": []
    },
    {
      "cell_type": "code",
      "source": [
        "with open(\"whisper.txt\", \"w\") as f:\n",
        "    f.write(whisper_recognition)"
      ],
      "metadata": {
        "id": "XW4Utrgo_jAd"
      },
      "execution_count": 57,
      "outputs": []
    },
    {
      "cell_type": "markdown",
      "source": [
        "### **? баллов**. Другая библиотека: **deepgram**."
      ],
      "metadata": {
        "id": "-7FnnvB9yfyp"
      }
    },
    {
      "cell_type": "markdown",
      "source": [
        "На этапе распознавания с ней никаких сложностей, зарегистрироваться и создать key на [их сайте](https://console.deepgram.com/project/a28b67a8-49b2-41c6-9fa3-7293c025a0e8/keys) оказалось намного легче, чем в IBM. Но полученный Json нужно еще преобрзовать в плэйн текст на этапе оценивания результата."
      ],
      "metadata": {
        "id": "n_P0RWqLd0Nl"
      }
    },
    {
      "cell_type": "code",
      "source": [
        "from deepgram import Deepgram"
      ],
      "metadata": {
        "id": "G2Tl0N9wyfHQ"
      },
      "execution_count": 44,
      "outputs": []
    },
    {
      "cell_type": "code",
      "source": [
        "dg_key = '469bf12557e73ca5f81df9499c92c05f3cb87d4e' # успешно создала 🔑, не воруйте, пожалуйста, мне для дз надо\n",
        "dg = Deepgram(dg_key)"
      ],
      "metadata": {
        "id": "vThNsMDEzPEW"
      },
      "execution_count": 45,
      "outputs": []
    },
    {
      "cell_type": "code",
      "source": [
        "import json"
      ],
      "metadata": {
        "id": "TGAGQt_o1jQi"
      },
      "execution_count": 47,
      "outputs": []
    },
    {
      "cell_type": "markdown",
      "source": [
        "Сохраняем сложную систему расшифровок сразу в json, чтобы потом оттуда собрать текст"
      ],
      "metadata": {
        "id": "-_D0qAY2AGrz"
      }
    },
    {
      "cell_type": "code",
      "source": [
        "options = {\n",
        "    \"punctuate\": True,\n",
        "    \"model\": 'general',\n",
        "    \"tier\": 'enhanced'\n",
        "}\n",
        "\n",
        "with open(\"Vsauce.wav\", \"rb\") as f:\n",
        "  source = {\"buffer\": f, \"mimetype\":'audio/wav'}\n",
        "  res = dg.transcription.sync_prerecorded(source, options)\n",
        "  with open(f\"deepgram.json\", \"w\") as transcript:\n",
        "      json.dump(res, transcript)\n"
      ],
      "metadata": {
        "id": "PgRc9t2h0xQX"
      },
      "execution_count": 58,
      "outputs": []
    },
    {
      "cell_type": "markdown",
      "source": [
        "### **? баллов**. Использование модели с **huggingface** как в семинаре."
      ],
      "metadata": {
        "id": "AvVHe7IIW3GD"
      }
    },
    {
      "cell_type": "markdown",
      "source": [
        "Сложного, конечно, тут ничего, но и результат получился просто отвратительный (пока по оценке своими глазами)."
      ],
      "metadata": {
        "id": "VuM4kQjpfWL6"
      }
    },
    {
      "cell_type": "code",
      "source": [
        "import torch\n",
        "from transformers import pipeline"
      ],
      "metadata": {
        "id": "i39oY4VbW_Js"
      },
      "execution_count": 53,
      "outputs": []
    },
    {
      "cell_type": "code",
      "source": [
        "transcriber = pipeline(\"automatic-speech-recognition\", \"facebook/wav2vec2-base-960h\")\n",
        "easy_hugging = transcriber('Vsauce.wav')"
      ],
      "metadata": {
        "colab": {
          "base_uri": "https://localhost:8080/"
        },
        "id": "cv5ADZx-XBep",
        "outputId": "fe8a3106-34a5-480b-abf3-dec7d507d829"
      },
      "execution_count": 7,
      "outputs": [
        {
          "output_type": "stream",
          "name": "stderr",
          "text": [
            "Some weights of the model checkpoint at facebook/wav2vec2-base-960h were not used when initializing Wav2Vec2ForCTC: ['wav2vec2.encoder.pos_conv_embed.conv.weight_v', 'wav2vec2.encoder.pos_conv_embed.conv.weight_g']\n",
            "- This IS expected if you are initializing Wav2Vec2ForCTC from the checkpoint of a model trained on another task or with another architecture (e.g. initializing a BertForSequenceClassification model from a BertForPreTraining model).\n",
            "- This IS NOT expected if you are initializing Wav2Vec2ForCTC from the checkpoint of a model that you expect to be exactly identical (initializing a BertForSequenceClassification model from a BertForSequenceClassification model).\n",
            "Some weights of Wav2Vec2ForCTC were not initialized from the model checkpoint at facebook/wav2vec2-base-960h and are newly initialized: ['wav2vec2.encoder.pos_conv_embed.conv.parametrizations.weight.original0', 'wav2vec2.masked_spec_embed', 'wav2vec2.encoder.pos_conv_embed.conv.parametrizations.weight.original1']\n",
            "You should probably TRAIN this model on a down-stream task to be able to use it for predictions and inference.\n"
          ]
        }
      ]
    },
    {
      "cell_type": "code",
      "source": [
        "type(easy_hugging)"
      ],
      "metadata": {
        "colab": {
          "base_uri": "https://localhost:8080/"
        },
        "id": "NzrOKuJMijML",
        "outputId": "0f6359cb-4bfe-4d11-ec64-21be41e7a012"
      },
      "execution_count": 8,
      "outputs": [
        {
          "output_type": "execute_result",
          "data": {
            "text/plain": [
              "dict"
            ]
          },
          "metadata": {},
          "execution_count": 8
        }
      ]
    },
    {
      "cell_type": "code",
      "source": [
        "easy_hugging['text'][:200]"
      ],
      "metadata": {
        "colab": {
          "base_uri": "https://localhost:8080/",
          "height": 53
        },
        "id": "b0MGTjbgmiSi",
        "outputId": "dc83e763-1621-44c5-facd-f00f18ff8b2f"
      },
      "execution_count": 20,
      "outputs": [
        {
          "output_type": "execute_result",
          "data": {
            "text/plain": [
              "'HAY VESAS MY I HERE I HAVE NEVER MADE AN ANNOUNCEMENT VIDIO BUT WHAT AWAY TO START ADAM SAVAGE AND I YES TE ADAM SAVAGE HAVE BEEN WORKING ON SOMETHING DELICIOUS AND NEW TRICIOUS AND LIVE E ON STAGE WE'"
            ],
            "application/vnd.google.colaboratory.intrinsic+json": {
              "type": "string"
            }
          },
          "metadata": {},
          "execution_count": 20
        }
      ]
    },
    {
      "cell_type": "markdown",
      "source": [
        "И сохраним текст субтитров в файл"
      ],
      "metadata": {
        "id": "hB44R0qJmw43"
      }
    },
    {
      "cell_type": "code",
      "source": [
        "with open(\"easy_hugging.txt\", \"w\") as f:\n",
        "    f.write(easy_hugging['text'])"
      ],
      "metadata": {
        "id": "B5rkXeS4mwAa"
      },
      "execution_count": 21,
      "outputs": []
    },
    {
      "cell_type": "markdown",
      "source": [
        "### **? баллов**. Использование модели с **huggingface** не с семинара и с небольшой сложностью."
      ],
      "metadata": {
        "id": "pCatrKe0fkcF"
      }
    },
    {
      "cell_type": "markdown",
      "source": [
        "Интуитивное решение = посмотреть, как справляются другие уже обученные модели с huggingface. Я нашла популярную приятно работающую модель от **open-ai**, но там возникла проблема, что она обрабатывает только 30 секунд аудио.   \n",
        "  \n",
        "И я, поразмыслив, решила, что в нашей конкретной задаче такое решение, как просто разрезать моё аудио на кусочки по 30 секунд позволимо (просто слишком уж хорошая расшифровка получалась, не хотелось её терять).  \n",
        "  \n",
        "Сначала я радостно научилась разрезать аудио на куски с **AudioSegment** из библиотеки **pydub**, но потом обнаружила, что **pipeline** позволяет это сделать намного элегантнее и так у меня появился ещё один вариант расшифровки."
      ],
      "metadata": {
        "id": "tOkuv6d-fqPd"
      }
    },
    {
      "cell_type": "markdown",
      "source": [
        "#### Мини FYI от pydub (мне просто было жаль удалять всё)"
      ],
      "metadata": {
        "id": "eaQdMkyMpuHa"
      }
    },
    {
      "cell_type": "code",
      "source": [
        "from pydub import AudioSegment"
      ],
      "metadata": {
        "id": "Bwq1n5YXpc_b"
      },
      "execution_count": 32,
      "outputs": []
    },
    {
      "cell_type": "code",
      "source": [
        "sound = AudioSegment.from_wav(\"Vsauce.wav\")"
      ],
      "metadata": {
        "id": "rVprkmORkd8O"
      },
      "execution_count": 13,
      "outputs": []
    },
    {
      "cell_type": "code",
      "source": [
        "print(f\"Моё аудио длится всего 3 минуты, а точнее {len(sound)} милисекунды.\")"
      ],
      "metadata": {
        "colab": {
          "base_uri": "https://localhost:8080/"
        },
        "id": "DaOHDrPilToC",
        "outputId": "aa1bdba5-d4aa-4f29-f6de-2e1acdd797fb"
      },
      "execution_count": 18,
      "outputs": [
        {
          "output_type": "stream",
          "name": "stdout",
          "text": [
            "Моё аудио длится всего 3 минуты, а точнее 180524 милисекунды.\n"
          ]
        }
      ]
    },
    {
      "cell_type": "markdown",
      "source": [
        "#### Получение настоящего транскрипта"
      ],
      "metadata": {
        "id": "Kkw4ucfLp3ve"
      }
    },
    {
      "cell_type": "markdown",
      "source": [
        "Я решила взять две open-ai whisper модели - base и large, здесь замерив время работы, а затем отдельно сравнив качество. На интерес. Хотя моё предположение, что даже base *очень* хорошо расшифровывает."
      ],
      "metadata": {
        "id": "RFxxhm5rq4yr"
      }
    },
    {
      "cell_type": "code",
      "source": [
        "import time"
      ],
      "metadata": {
        "id": "yhfRi-kcsC8D"
      },
      "execution_count": 51,
      "outputs": []
    },
    {
      "cell_type": "code",
      "source": [
        "start_time = time.time()\n",
        "pipe = pipeline(\n",
        "  \"automatic-speech-recognition\",\n",
        "  model=\"openai/whisper-base\",\n",
        "  chunk_length_s=30,\n",
        ")\n",
        "hard_hf = pipe(\"Vsauce.wav\")[\"text\"]\n",
        "print(\"base модель затратила\", time.time() - start_time)"
      ],
      "metadata": {
        "id": "iO9Vb4gKUrYj"
      },
      "execution_count": null,
      "outputs": []
    },
    {
      "cell_type": "code",
      "source": [
        "with open(\"hard_hugging.txt\", \"w\") as f:\n",
        "  f.write(hard_hf)"
      ],
      "metadata": {
        "id": "sLOowPi7nxLh"
      },
      "execution_count": 33,
      "outputs": []
    },
    {
      "cell_type": "code",
      "source": [
        "start_time = time.time()\n",
        "pipe = pipeline(\n",
        "  \"automatic-speech-recognition\",\n",
        "  model=\"openai/whisper-large\",\n",
        "  chunk_length_s=30,\n",
        ")\n",
        "big_hard_hf = pipe(\"Vsauce.wav\")[\"text\"]\n",
        "print(\"large модель затратила\", time.time() - start_time)"
      ],
      "metadata": {
        "id": "3GbmnCZdlJ-N"
      },
      "execution_count": null,
      "outputs": []
    },
    {
      "cell_type": "code",
      "source": [
        "with open(\"big_hard_hugging.txt\", \"w\") as f:\n",
        "  f.write(big_hard_hf)"
      ],
      "metadata": {
        "id": "3LWcbtC0rHqp"
      },
      "execution_count": 46,
      "outputs": []
    },
    {
      "cell_type": "markdown",
      "source": [
        "### **? баллов**. Ещё более другая библиотека: **должна быть здесь, вот бы праат**."
      ],
      "metadata": {
        "id": "dyIXY2Ditn-L"
      }
    },
    {
      "cell_type": "markdown",
      "source": [
        "### **+-2 балла**. Наконец-то evaluation всех собранных транскриптов."
      ],
      "metadata": {
        "id": "J7AVxwfMwoTk"
      }
    },
    {
      "cell_type": "markdown",
      "source": [
        "#### **Часть 1**. Приведение всех распознанных штук в формат plain text."
      ],
      "metadata": {
        "id": "U0N5welgwzNn"
      }
    },
    {
      "cell_type": "markdown",
      "source": [
        "##### Из автоматических субтитров с YouTube попытаемся извлечь адекватный текст при помощи библиотеки для работы с форматом .vtt: **webvtt**."
      ],
      "metadata": {
        "id": "iALwCWHzxB1m"
      }
    },
    {
      "cell_type": "code",
      "source": [
        "import webvtt"
      ],
      "metadata": {
        "id": "DQsQJBT4tr5K"
      },
      "execution_count": 9,
      "outputs": []
    },
    {
      "cell_type": "code",
      "source": [
        "vtt_object = webvtt.read('Vsauce.vtt')\n",
        "text = \"\"\n",
        "lines = []\n",
        "for line in vtt_object:\n",
        "    lines.extend(line.text.strip().splitlines())\n",
        "\n",
        "# Очень полезно избавиться от повторяющихся линий\n",
        "previous = None\n",
        "for line in lines:\n",
        "    if line == previous:\n",
        "       continue\n",
        "    text += \" \" + line\n",
        "    previous = line"
      ],
      "metadata": {
        "id": "stWXTcSTxV8a"
      },
      "execution_count": 12,
      "outputs": []
    },
    {
      "cell_type": "code",
      "source": [
        "with open(\"you_tube.txt\", \"w\") as f:\n",
        "  f.write(text)"
      ],
      "metadata": {
        "id": "BMK2inOfymmH"
      },
      "execution_count": 13,
      "outputs": []
    },
    {
      "cell_type": "markdown",
      "source": [
        "##### Из JSON файла, получившегося от deepgram соберем текст."
      ],
      "metadata": {
        "id": "ADBi5DjVy91Q"
      }
    },
    {
      "cell_type": "code",
      "source": [
        "# import json - мы его импортировали уже, просто у меня тетрадка отключилась"
      ],
      "metadata": {
        "id": "W5rmm0bHP3KF"
      },
      "execution_count": null,
      "outputs": []
    },
    {
      "cell_type": "code",
      "source": [
        "with open('deepgram.json') as f:\n",
        "    d = json.load(f)"
      ],
      "metadata": {
        "id": "1P-KZ4HVzG9F"
      },
      "execution_count": 16,
      "outputs": []
    },
    {
      "cell_type": "markdown",
      "source": [
        "Дальнейшее исследование структуры файла показало, что именно следующий путь ведёт к нужному транскрипту, который я и сохранила."
      ],
      "metadata": {
        "id": "L9xPvtXk166T"
      }
    },
    {
      "cell_type": "code",
      "source": [
        "deepgram_text = d[\"results\"][\"channels\"][0][\"alternatives\"][0][\"transcript\"]"
      ],
      "metadata": {
        "id": "c-rIYWN20Uy_"
      },
      "execution_count": 31,
      "outputs": []
    },
    {
      "cell_type": "code",
      "source": [
        "with open(\"deepgram.txt\", \"w\") as f:\n",
        "  f.write(deepgram_text)"
      ],
      "metadata": {
        "id": "MyLTodst1ZVe"
      },
      "execution_count": 36,
      "outputs": []
    },
    {
      "cell_type": "markdown",
      "source": [
        "##### Итого у меня 8 транскриптов: 3 от huggingface, 2 от SpeechRecognition, 1 от deepgram, 1 от YouTube auto и 1 - идеальный - сделанный мной самой из кусков остальных."
      ],
      "metadata": {
        "id": "Xx-Zsg8N2dFo"
      }
    },
    {
      "cell_type": "code",
      "source": [
        "with open(\"deepgram.txt\", \"r\") as f:\n",
        "  deepgram = f.read().strip()\n",
        "with open(\"easy_hugging.txt\", \"r\") as f:\n",
        "  easy_hugging = f.read().strip()\n",
        "with open(\"hard_hugging.txt\", \"r\") as f:\n",
        "  hard_hugging = f.read().strip()\n",
        "with open(\"big_hard_hugging.txt\", \"r\") as f:\n",
        "  big_hard_hugging = f.read().strip()\n",
        "with open(\"sphinx.txt\", \"r\") as f:\n",
        "  sphinx = f.read().strip()\n",
        "with open(\"whisper.txt\", \"r\") as f:\n",
        "  whisper = f.read().strip()\n",
        "with open(\"you_tube.txt\", \"r\") as f:\n",
        "  you_tube = f.read().strip()\n",
        "with open(\"perfect.txt\", \"r\") as f:\n",
        "  perfect = f.read().strip()"
      ],
      "metadata": {
        "id": "eyRukmeu2i9V"
      },
      "execution_count": 4,
      "outputs": []
    },
    {
      "cell_type": "code",
      "source": [
        "# просто интересно посмотреть, что будет\n",
        "easy_hugging_low = easy_hugging.lower()"
      ],
      "metadata": {
        "id": "xxUkGmSCQ7y-"
      },
      "execution_count": 37,
      "outputs": []
    },
    {
      "cell_type": "code",
      "source": [
        "list_of_names = ['perfect', 'deepgram', 'easy_hugging', 'easy_hugging_low', 'hard_hugging', 'big_hard_hugging', 'sphinx', 'whisper', 'you_tube']\n",
        "list_of_texts = [perfect, deepgram, easy_hugging, easy_hugging_low, hard_hugging, big_hard_hugging, sphinx, whisper, you_tube]"
      ],
      "metadata": {
        "id": "uuqeNFxy20O1"
      },
      "execution_count": 38,
      "outputs": []
    },
    {
      "cell_type": "code",
      "source": [
        "print('Сравним, как потрясающе различаются наши транскрипты!\\n')\n",
        "for i in range(len(list_of_names)):\n",
        "  print(\"                        модель: \", list_of_names[i])\n",
        "  print(list_of_texts[i][:100])"
      ],
      "metadata": {
        "colab": {
          "base_uri": "https://localhost:8080/"
        },
        "id": "c5TaeqW340RG",
        "outputId": "5833b7d7-bf64-4114-d681-16e1241ccb44"
      },
      "execution_count": 39,
      "outputs": [
        {
          "output_type": "stream",
          "name": "stdout",
          "text": [
            "Сравним, как потрясающе различаются наши транскрипты!\n",
            "\n",
            "                        модель:  perfect\n",
            "Hey, Vsauce, Michael here. I have never made an announcement video, but what a way to start. Adam Sa\n",
            "                        модель:  deepgram\n",
            "Hey, vsauce, Michael here. I have never made an announcement video, but what a way to start? Adam sa\n",
            "                        модель:  easy_hugging\n",
            "HAY VESAS MY I HERE I HAVE NEVER MADE AN ANNOUNCEMENT VIDIO BUT WHAT AWAY TO START ADAM SAVAGE AND I\n",
            "                        модель:  easy_hugging_low\n",
            "hay vesas my i here i have never made an announcement vidio but what away to start adam savage and i\n",
            "                        модель:  hard_hugging\n",
            "Hey, Vsauce, Michael here. I have never made an announcement video,andylive.com to begin. We're taki\n",
            "                        модель:  big_hard_hugging\n",
            "Hey Vsauce, Michael here. I have never made an announcement video, but what a way to start. Adam Sav\n",
            "                        модель:  sphinx\n",
            "the peace talks like to i have never made an announcement video but what we restore adam savage and \n",
            "                        модель:  whisper\n",
            "Hey, Vsauce, Michael here. I have never made an announcement video, but what a way to start. Adam Sa\n",
            "                        модель:  you_tube\n",
            "hey Vsauce Michael here I have never made an announcement video but what a way to start Adam Savage \n"
          ]
        }
      ]
    },
    {
      "cell_type": "markdown",
      "source": [
        "#### **Часть 2**. WER сравнение."
      ],
      "metadata": {
        "id": "kKM060a8-yeu"
      }
    },
    {
      "cell_type": "markdown",
      "source": [
        "##### С помощью библиотеки **evaluate**"
      ],
      "metadata": {
        "id": "cEom_wATHNAq"
      }
    },
    {
      "cell_type": "code",
      "source": [
        "import evaluate"
      ],
      "metadata": {
        "id": "--KSK9OqHStX"
      },
      "execution_count": 3,
      "outputs": []
    },
    {
      "cell_type": "code",
      "source": [
        "wer = evaluate.load(\"wer\")"
      ],
      "metadata": {
        "id": "BDSTL6WE40U4"
      },
      "execution_count": 16,
      "outputs": []
    },
    {
      "cell_type": "code",
      "source": [
        "reference = perfect\n",
        "numbers = []\n",
        "for i in range(len(list_of_names)-1):\n",
        "  hypothesis = list_of_texts[i+1]\n",
        "  w = wer.compute(references=[reference], predictions=[hypothesis])\n",
        "  numbers.append(w)\n",
        "  print(w, \"wer c\", list_of_names[i+1])"
      ],
      "metadata": {
        "colab": {
          "base_uri": "https://localhost:8080/"
        },
        "id": "atEHCjaHIl_t",
        "outputId": "d66b0f25-c236-4bbd-ad39-9c333ee43d21"
      },
      "execution_count": 40,
      "outputs": [
        {
          "output_type": "stream",
          "name": "stdout",
          "text": [
            "0.1393258426966292 wer c deepgram\n",
            "1.0 wer c easy_hugging\n",
            "0.3685393258426966 wer c easy_hugging_low\n",
            "0.09887640449438202 wer c hard_hugging\n",
            "0.16853932584269662 wer c big_hard_hugging\n",
            "0.6561797752808989 wer c sphinx\n",
            "0.07865168539325842 wer c whisper\n",
            "0.20674157303370785 wer c you_tube\n"
          ]
        }
      ]
    },
    {
      "cell_type": "markdown",
      "source": [
        "##### Визуализируем с **matplotlib**"
      ],
      "metadata": {
        "id": "qWSCXqGWKfrE"
      }
    },
    {
      "cell_type": "code",
      "source": [
        "import matplotlib.pyplot as plt"
      ],
      "metadata": {
        "id": "LfddxyX6KTJh"
      },
      "execution_count": 18,
      "outputs": []
    },
    {
      "cell_type": "code",
      "source": [
        "plt.rcParams.update({'font.size': 12})"
      ],
      "metadata": {
        "id": "BhsnpXrTLUUo"
      },
      "execution_count": 30,
      "outputs": []
    },
    {
      "cell_type": "code",
      "source": [
        "fig, ax = plt.subplots()\n",
        "\n",
        "bar_colors = ['#FFB6C1', '#C71585', \"#C71585\", '#FFC0CB', '#DB7093', '#FF1493', \"#FAEBD7\", '#FF69B4']\n",
        "\n",
        "ax.bar(list_of_names[1:], numbers, color=bar_colors)\n",
        "\n",
        "ax.set_ylabel('доля неправильно распознанных слов')\n",
        "ax.set_title('WER по разным ресурсам транскрипций')\n",
        "plt.xticks(rotation=70)\n",
        "\n",
        "plt.show()"
      ],
      "metadata": {
        "colab": {
          "base_uri": "https://localhost:8080/",
          "height": 588
        },
        "id": "-ILb-eybKmWd",
        "outputId": "31363702-2ff5-45b4-b6d5-27e9f9a7aa21"
      },
      "execution_count": 50,
      "outputs": [
        {
          "output_type": "display_data",
          "data": {
            "text/plain": [
              "<Figure size 640x480 with 1 Axes>"
            ],
            "image/png": "[encoded data removed]"
          },
          "metadata": {}
        }
      ]
    },
    {
      "cell_type": "markdown",
      "source": [
        "**Итог:**\n",
        "Поздравляем с победой whisper от SpeechRecognition и с поражением - модель \"facebook/wav2vec2-base-960h\" с семинара (а если чуть честнее и не помочь модели с регистром, то поздравляем sphinx из того же SpeechRecognition)."
      ],
      "metadata": {
        "id": "KBVhoM7PS818"
      }
    },
    {
      "cell_type": "markdown",
      "source": [
        "**Интересно было бы** сравнить без учёта uppercase or lowercase, ведь, ярко видно, что модель с семинара, обученная выдавать всю транскрипцию капсом не совпадает совершенно с нашей транскрипцией, но достаточно перевести её в lowercase и она уже даже не самая худшая.  \n",
        "**Интересно ещё было бы** посмотреть другие (в том числе DL) способы сравнить похожесть текстов.  \n\n",
        "**P.S.** Было интересно увидеть, что обученная модель от open-ai large справилась хуже чем base (хотя large у меня затратила намного больше времени), но тут я должна признать, что есть пара факторов, заставляющих совмневаться в чистоте этого результата:  \n",
        "(1) за основу моей транскрипчии в достаточно болььшой части была взята именно транскрипция base  \n",
        "(2) выбранный мною (лёгкий) метод деления на кусочки по 30 секунд немного заставляет меня совмневаться, потому что я видела, как модель base идеально расшифровывает первые 30 секунд, если ей дать на вход целое 3-х минутное видео, но ломается и теряет кусок в методе по частям. Так что может тут повлияло ещё и это.  \n\n",
        "**Anyway** ощущается какая-то неудовлетворенность, что хотелось сделать больше."
      ],
      "metadata": {
        "id": "-1QEgg5kQW0m"
      }
    },
    {
      "cell_type": "code",
      "source": [],
      "metadata": {
        "id": "hQfbl0VVKm68"
      },
      "execution_count": null,
      "outputs": []
    },
    {
      "cell_type": "code",
      "source": [],
      "metadata": {
        "id": "DQXWow2WKm-S"
      },
      "execution_count": null,
      "outputs": []
    }
  ]
}
