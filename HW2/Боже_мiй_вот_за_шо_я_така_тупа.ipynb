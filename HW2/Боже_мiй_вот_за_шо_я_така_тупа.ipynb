{
  "nbformat": 4,
  "nbformat_minor": 0,
  "metadata": {
    "colab": {
      "provenance": []
    },
    "kernelspec": {
      "name": "python3",
      "display_name": "Python 3"
    },
    "language_info": {
      "name": "python"
    }
  },
  "cells": [
    {
      "cell_type": "markdown",
      "source": [
        "### HW2 NLP"
      ],
      "metadata": {
        "id": "xbTzgl6HfwYR"
      }
    },
    {
      "cell_type": "markdown",
      "source": [
        "### **2 балла**. Сбор аудио и субтитров."
      ],
      "metadata": {
        "id": "Jl3b2PBXR4AQ"
      }
    },
    {
      "cell_type": "markdown",
      "source": [
        "Сначала я работала с youtube-dl через терминал Ubuntu, но потом нашла, что с библиотекой yt_dlp можно работать прямо из гугл коллаба и я очень надеюсь, что (раз yt_dlp в целом работает так же как outube-dl) это тоже засчитываетс яза использование библиотеки!"
      ],
      "metadata": {
        "id": "20LXlo_3vY9A"
      }
    },
    {
      "cell_type": "code",
      "source": [
        "! pip install yt_dlp"
      ],
      "metadata": {
        "colab": {
          "base_uri": "https://localhost:8080/"
        },
        "id": "WvvnrEFwfv15",
        "outputId": "e7a72a6e-faa0-481f-c915-01ca6acc47e5"
      },
      "execution_count": 2,
      "outputs": [
        {
          "output_type": "stream",
          "name": "stdout",
          "text": [
            "Collecting yt_dlp\n",
            "  Downloading yt_dlp-2023.11.16-py2.py3-none-any.whl (3.1 MB)\n",
            "\u001b[2K     \u001b[90m━━━━━━━━━━━━━━━━━━━━━━━━━━━━━━━━━━━━━━━━\u001b[0m \u001b[32m3.1/3.1 MB\u001b[0m \u001b[31m10.0 MB/s\u001b[0m eta \u001b[36m0:00:00\u001b[0m\n",
            "\u001b[?25hCollecting mutagen (from yt_dlp)\n",
            "  Downloading mutagen-1.47.0-py3-none-any.whl (194 kB)\n",
            "\u001b[2K     \u001b[90m━━━━━━━━━━━━━━━━━━━━━━━━━━━━━━━━━━━━━━━━\u001b[0m \u001b[32m194.4/194.4 kB\u001b[0m \u001b[31m12.9 MB/s\u001b[0m eta \u001b[36m0:00:00\u001b[0m\n",
            "\u001b[?25hCollecting pycryptodomex (from yt_dlp)\n",
            "  Downloading pycryptodomex-3.19.0-cp35-abi3-manylinux_2_17_x86_64.manylinux2014_x86_64.whl (2.1 MB)\n",
            "\u001b[2K     \u001b[90m━━━━━━━━━━━━━━━━━━━━━━━━━━━━━━━━━━━━━━━━\u001b[0m \u001b[32m2.1/2.1 MB\u001b[0m \u001b[31m18.0 MB/s\u001b[0m eta \u001b[36m0:00:00\u001b[0m\n",
            "\u001b[?25hCollecting websockets (from yt_dlp)\n",
            "  Downloading websockets-12.0-cp310-cp310-manylinux_2_5_x86_64.manylinux1_x86_64.manylinux_2_17_x86_64.manylinux2014_x86_64.whl (130 kB)\n",
            "\u001b[2K     \u001b[90m━━━━━━━━━━━━━━━━━━━━━━━━━━━━━━━━━━━━━━━━\u001b[0m \u001b[32m130.2/130.2 kB\u001b[0m \u001b[31m11.0 MB/s\u001b[0m eta \u001b[36m0:00:00\u001b[0m\n",
            "\u001b[?25hRequirement already satisfied: certifi in /usr/local/lib/python3.10/dist-packages (from yt_dlp) (2023.11.17)\n",
            "Requirement already satisfied: requests<3,>=2.31.0 in /usr/local/lib/python3.10/dist-packages (from yt_dlp) (2.31.0)\n",
            "Requirement already satisfied: urllib3<3,>=1.26.17 in /usr/local/lib/python3.10/dist-packages (from yt_dlp) (2.0.7)\n",
            "Collecting brotli (from yt_dlp)\n",
            "  Downloading Brotli-1.1.0-cp310-cp310-manylinux_2_5_x86_64.manylinux1_x86_64.manylinux_2_12_x86_64.manylinux2010_x86_64.whl (3.0 MB)\n",
            "\u001b[2K     \u001b[90m━━━━━━━━━━━━━━━━━━━━━━━━━━━━━━━━━━━━━━━━\u001b[0m \u001b[32m3.0/3.0 MB\u001b[0m \u001b[31m26.5 MB/s\u001b[0m eta \u001b[36m0:00:00\u001b[0m\n",
            "\u001b[?25hRequirement already satisfied: charset-normalizer<4,>=2 in /usr/local/lib/python3.10/dist-packages (from requests<3,>=2.31.0->yt_dlp) (3.3.2)\n",
            "Requirement already satisfied: idna<4,>=2.5 in /usr/local/lib/python3.10/dist-packages (from requests<3,>=2.31.0->yt_dlp) (3.6)\n",
            "Installing collected packages: brotli, websockets, pycryptodomex, mutagen, yt_dlp\n",
            "Successfully installed brotli-1.1.0 mutagen-1.47.0 pycryptodomex-3.19.0 websockets-12.0 yt_dlp-2023.11.16\n"
          ]
        }
      ]
    },
    {
      "cell_type": "code",
      "source": [
        "from yt_dlp import YoutubeDL"
      ],
      "metadata": {
        "id": "EVTv5UP3fv4w"
      },
      "execution_count": 3,
      "outputs": []
    },
    {
      "cell_type": "markdown",
      "source": [
        "Я качала аудио и автоматические английские субтитры из видео Vsauce."
      ],
      "metadata": {
        "id": "3RnNgYnSREX_"
      }
    },
    {
      "cell_type": "code",
      "source": [
        "# Это команда для скачивания автоматических субтитров (формат файла .en.vtt)\n",
        "! yt-dlp --write-auto-sub https://www.youtube.com/watch?v=VhVtK7UhKbI"
      ],
      "metadata": {
        "colab": {
          "base_uri": "https://localhost:8080/"
        },
        "id": "I9QVvunDue5V",
        "outputId": "74fd582c-b7a8-4273-896d-2c60e6dae381"
      },
      "execution_count": 49,
      "outputs": [
        {
          "output_type": "stream",
          "name": "stdout",
          "text": [
            "[youtube] Extracting URL: https://www.youtube.com/watch?v=VhVtK7UhKbI\n",
            "[youtube] VhVtK7UhKbI: Downloading webpage\n",
            "[youtube] VhVtK7UhKbI: Downloading ios player API JSON\n",
            "[youtube] VhVtK7UhKbI: Downloading android player API JSON\n",
            "[youtube] VhVtK7UhKbI: Downloading m3u8 information\n",
            "[info] VhVtK7UhKbI: Downloading subtitles: en\n",
            "[info] VhVtK7UhKbI: Downloading 1 format(s): 313+251\n",
            "[info] Writing video subtitles to: ANNOUNCING BRAIN CANDY LIVE [VhVtK7UhKbI].en.vtt\n",
            "[download] Destination: ANNOUNCING BRAIN CANDY LIVE [VhVtK7UhKbI].en.vtt\n",
            "\u001b[K[download] 100% of   21.25KiB in \u001b[1;37m00:00:00\u001b[0m at \u001b[0;32m331.88KiB/s\u001b[0m\n",
            "[download] Destination: ANNOUNCING BRAIN CANDY LIVE [VhVtK7UhKbI].f313.webm\n",
            "\u001b[K[download] 100% of  216.89MiB in \u001b[1;37m00:00:19\u001b[0m at \u001b[0;32m11.39MiB/s\u001b[0m\n",
            "[download] Destination: ANNOUNCING BRAIN CANDY LIVE [VhVtK7UhKbI].f251.webm\n",
            "\u001b[K[download] 100% of    2.68MiB in \u001b[1;37m00:00:00\u001b[0m at \u001b[0;32m18.24MiB/s\u001b[0m\n",
            "[Merger] Merging formats into \"ANNOUNCING BRAIN CANDY LIVE [VhVtK7UhKbI].webm\"\n",
            "Deleting original file ANNOUNCING BRAIN CANDY LIVE [VhVtK7UhKbI].f251.webm (pass -k to keep)\n",
            "Deleting original file ANNOUNCING BRAIN CANDY LIVE [VhVtK7UhKbI].f313.webm (pass -k to keep)\n"
          ]
        }
      ]
    },
    {
      "cell_type": "code",
      "source": [
        "# Это команда для скачивания аудио в формате wav\n",
        "! yt-dlp --extract-audio --audio-format wav https://www.youtube.com/watch?v=VhVtK7UhKbI"
      ],
      "metadata": {
        "colab": {
          "base_uri": "https://localhost:8080/"
        },
        "id": "I9Z_EVIsvnWO",
        "outputId": "1d629f24-f031-489e-e0d2-06c6744eee56"
      },
      "execution_count": 50,
      "outputs": [
        {
          "output_type": "stream",
          "name": "stdout",
          "text": [
            "[youtube] Extracting URL: https://www.youtube.com/watch?v=VhVtK7UhKbI\n",
            "[youtube] VhVtK7UhKbI: Downloading webpage\n",
            "[youtube] VhVtK7UhKbI: Downloading ios player API JSON\n",
            "[youtube] VhVtK7UhKbI: Downloading android player API JSON\n",
            "[youtube] VhVtK7UhKbI: Downloading m3u8 information\n",
            "[info] VhVtK7UhKbI: Downloading 1 format(s): 251\n",
            "[download] ANNOUNCING BRAIN CANDY LIVE [VhVtK7UhKbI].webm has already been downloaded\n",
            "\u001b[K[download] 100% of  219.57MiB\n",
            "[ExtractAudio] Destination: ANNOUNCING BRAIN CANDY LIVE [VhVtK7UhKbI].wav\n",
            "Deleting original file ANNOUNCING BRAIN CANDY LIVE [VhVtK7UhKbI].webm (pass -k to keep)\n"
          ]
        }
      ]
    },
    {
      "cell_type": "markdown",
      "source": [
        "И тут я переименовываю долгие автоматические названия \"ANNOUNCING BRAIN CANDY...\" в \"Vsauce.wav\""
      ],
      "metadata": {
        "id": "_QQOuZTq9Zqz"
      }
    },
    {
      "cell_type": "markdown",
      "source": [
        "### **? баллов**. библиотека SpeechRecognition: Sphinx & whisper."
      ],
      "metadata": {
        "id": "jVVZr1F4SQAy"
      }
    },
    {
      "cell_type": "markdown",
      "source": [
        "#### Нужные установки"
      ],
      "metadata": {
        "id": "H32eGlIgkZi8"
      }
    },
    {
      "cell_type": "code",
      "source": [
        "! pip install SpeechRecognition"
      ],
      "metadata": {
        "colab": {
          "base_uri": "https://localhost:8080/"
        },
        "id": "VSlRoi3nvvfo",
        "outputId": "06fcb13d-7247-437c-97a6-843faea957c7"
      },
      "execution_count": 12,
      "outputs": [
        {
          "output_type": "stream",
          "name": "stdout",
          "text": [
            "Collecting SpeechRecognition\n",
            "  Downloading SpeechRecognition-3.10.1-py2.py3-none-any.whl (32.8 MB)\n",
            "\u001b[2K     \u001b[90m━━━━━━━━━━━━━━━━━━━━━━━━━━━━━━━━━━━━━━━━\u001b[0m \u001b[32m32.8/32.8 MB\u001b[0m \u001b[31m22.9 MB/s\u001b[0m eta \u001b[36m0:00:00\u001b[0m\n",
            "\u001b[?25hRequirement already satisfied: requests>=2.26.0 in /usr/local/lib/python3.10/dist-packages (from SpeechRecognition) (2.31.0)\n",
            "Requirement already satisfied: typing-extensions in /usr/local/lib/python3.10/dist-packages (from SpeechRecognition) (4.5.0)\n",
            "Requirement already satisfied: charset-normalizer<4,>=2 in /usr/local/lib/python3.10/dist-packages (from requests>=2.26.0->SpeechRecognition) (3.3.2)\n",
            "Requirement already satisfied: idna<4,>=2.5 in /usr/local/lib/python3.10/dist-packages (from requests>=2.26.0->SpeechRecognition) (3.6)\n",
            "Requirement already satisfied: urllib3<3,>=1.21.1 in /usr/local/lib/python3.10/dist-packages (from requests>=2.26.0->SpeechRecognition) (2.0.7)\n",
            "Requirement already satisfied: certifi>=2017.4.17 in /usr/local/lib/python3.10/dist-packages (from requests>=2.26.0->SpeechRecognition) (2023.11.17)\n",
            "Installing collected packages: SpeechRecognition\n",
            "Successfully installed SpeechRecognition-3.10.1\n"
          ]
        }
      ]
    },
    {
      "cell_type": "code",
      "source": [
        "!pip install pocketsphinx"
      ],
      "metadata": {
        "colab": {
          "base_uri": "https://localhost:8080/"
        },
        "id": "cZ3NO70Wbxvn",
        "outputId": "8c72f9c0-cccc-4d4c-ef14-9bb11c6244c8"
      },
      "execution_count": 15,
      "outputs": [
        {
          "output_type": "stream",
          "name": "stdout",
          "text": [
            "Collecting pocketsphinx\n",
            "  Downloading pocketsphinx-5.0.2-cp310-cp310-manylinux_2_17_x86_64.manylinux2014_x86_64.whl (29.2 MB)\n",
            "\u001b[2K     \u001b[90m━━━━━━━━━━━━━━━━━━━━━━━━━━━━━━━━━━━━━━━━\u001b[0m \u001b[32m29.2/29.2 MB\u001b[0m \u001b[31m19.3 MB/s\u001b[0m eta \u001b[36m0:00:00\u001b[0m\n",
            "\u001b[?25hCollecting sounddevice (from pocketsphinx)\n",
            "  Downloading sounddevice-0.4.6-py3-none-any.whl (31 kB)\n",
            "Requirement already satisfied: CFFI>=1.0 in /usr/local/lib/python3.10/dist-packages (from sounddevice->pocketsphinx) (1.16.0)\n",
            "Requirement already satisfied: pycparser in /usr/local/lib/python3.10/dist-packages (from CFFI>=1.0->sounddevice->pocketsphinx) (2.21)\n",
            "Installing collected packages: sounddevice, pocketsphinx\n",
            "Successfully installed pocketsphinx-5.0.2 sounddevice-0.4.6\n"
          ]
        }
      ]
    },
    {
      "cell_type": "code",
      "source": [
        "! pip install openai-whisper"
      ],
      "metadata": {
        "colab": {
          "base_uri": "https://localhost:8080/"
        },
        "id": "pU8foK40jHof",
        "outputId": "fc5f6a4b-49a3-4581-d303-315edec6e943"
      },
      "execution_count": 22,
      "outputs": [
        {
          "output_type": "stream",
          "name": "stdout",
          "text": [
            "Collecting openai-whisper\n",
            "  Downloading openai-whisper-20231117.tar.gz (798 kB)\n",
            "\u001b[?25l     \u001b[90m━━━━━━━━━━━━━━━━━━━━━━━━━━━━━━━━━━━━━━━━\u001b[0m \u001b[32m0.0/798.6 kB\u001b[0m \u001b[31m?\u001b[0m eta \u001b[36m-:--:--\u001b[0m\r\u001b[2K     \u001b[91m━━━\u001b[0m\u001b[90m╺\u001b[0m\u001b[90m━━━━━━━━━━━━━━━━━━━━━━━━━━━━━━━━━━━━\u001b[0m \u001b[32m61.4/798.6 kB\u001b[0m \u001b[31m1.8 MB/s\u001b[0m eta \u001b[36m0:00:01\u001b[0m\r\u001b[2K     \u001b[91m━━━━━━━━━━━━━━━━━━━━━━━━\u001b[0m\u001b[90m╺\u001b[0m\u001b[90m━━━━━━━━━━━━━━━\u001b[0m \u001b[32m481.3/798.6 kB\u001b[0m \u001b[31m6.9 MB/s\u001b[0m eta \u001b[36m0:00:01\u001b[0m\r\u001b[2K     \u001b[90m━━━━━━━━━━━━━━━━━━━━━━━━━━━━━━━━━━━━━━━━\u001b[0m \u001b[32m798.6/798.6 kB\u001b[0m \u001b[31m7.9 MB/s\u001b[0m eta \u001b[36m0:00:00\u001b[0m\n",
            "\u001b[?25h  Installing build dependencies ... \u001b[?25l\u001b[?25hdone\n",
            "  Getting requirements to build wheel ... \u001b[?25l\u001b[?25hdone\n",
            "  Preparing metadata (pyproject.toml) ... \u001b[?25l\u001b[?25hdone\n",
            "Requirement already satisfied: triton<3,>=2.0.0 in /usr/local/lib/python3.10/dist-packages (from openai-whisper) (2.1.0)\n",
            "Requirement already satisfied: numba in /usr/local/lib/python3.10/dist-packages (from openai-whisper) (0.58.1)\n",
            "Requirement already satisfied: numpy in /usr/local/lib/python3.10/dist-packages (from openai-whisper) (1.23.5)\n",
            "Requirement already satisfied: torch in /usr/local/lib/python3.10/dist-packages (from openai-whisper) (2.1.0+cu121)\n",
            "Requirement already satisfied: tqdm in /usr/local/lib/python3.10/dist-packages (from openai-whisper) (4.66.1)\n",
            "Requirement already satisfied: more-itertools in /usr/local/lib/python3.10/dist-packages (from openai-whisper) (10.1.0)\n",
            "Collecting tiktoken (from openai-whisper)\n",
            "  Downloading tiktoken-0.5.2-cp310-cp310-manylinux_2_17_x86_64.manylinux2014_x86_64.whl (2.0 MB)\n",
            "\u001b[2K     \u001b[90m━━━━━━━━━━━━━━━━━━━━━━━━━━━━━━━━━━━━━━━━\u001b[0m \u001b[32m2.0/2.0 MB\u001b[0m \u001b[31m15.5 MB/s\u001b[0m eta \u001b[36m0:00:00\u001b[0m\n",
            "\u001b[?25hRequirement already satisfied: filelock in /usr/local/lib/python3.10/dist-packages (from triton<3,>=2.0.0->openai-whisper) (3.13.1)\n",
            "Requirement already satisfied: llvmlite<0.42,>=0.41.0dev0 in /usr/local/lib/python3.10/dist-packages (from numba->openai-whisper) (0.41.1)\n",
            "Requirement already satisfied: regex>=2022.1.18 in /usr/local/lib/python3.10/dist-packages (from tiktoken->openai-whisper) (2023.6.3)\n",
            "Requirement already satisfied: requests>=2.26.0 in /usr/local/lib/python3.10/dist-packages (from tiktoken->openai-whisper) (2.31.0)\n",
            "Requirement already satisfied: typing-extensions in /usr/local/lib/python3.10/dist-packages (from torch->openai-whisper) (4.5.0)\n",
            "Requirement already satisfied: sympy in /usr/local/lib/python3.10/dist-packages (from torch->openai-whisper) (1.12)\n",
            "Requirement already satisfied: networkx in /usr/local/lib/python3.10/dist-packages (from torch->openai-whisper) (3.2.1)\n",
            "Requirement already satisfied: jinja2 in /usr/local/lib/python3.10/dist-packages (from torch->openai-whisper) (3.1.2)\n",
            "Requirement already satisfied: fsspec in /usr/local/lib/python3.10/dist-packages (from torch->openai-whisper) (2023.6.0)\n",
            "Requirement already satisfied: charset-normalizer<4,>=2 in /usr/local/lib/python3.10/dist-packages (from requests>=2.26.0->tiktoken->openai-whisper) (3.3.2)\n",
            "Requirement already satisfied: idna<4,>=2.5 in /usr/local/lib/python3.10/dist-packages (from requests>=2.26.0->tiktoken->openai-whisper) (3.6)\n",
            "Requirement already satisfied: urllib3<3,>=1.21.1 in /usr/local/lib/python3.10/dist-packages (from requests>=2.26.0->tiktoken->openai-whisper) (2.0.7)\n",
            "Requirement already satisfied: certifi>=2017.4.17 in /usr/local/lib/python3.10/dist-packages (from requests>=2.26.0->tiktoken->openai-whisper) (2023.11.17)\n",
            "Requirement already satisfied: MarkupSafe>=2.0 in /usr/local/lib/python3.10/dist-packages (from jinja2->torch->openai-whisper) (2.1.3)\n",
            "Requirement already satisfied: mpmath>=0.19 in /usr/local/lib/python3.10/dist-packages (from sympy->torch->openai-whisper) (1.3.0)\n",
            "Building wheels for collected packages: openai-whisper\n",
            "  Building wheel for openai-whisper (pyproject.toml) ... \u001b[?25l\u001b[?25hdone\n",
            "  Created wheel for openai-whisper: filename=openai_whisper-20231117-py3-none-any.whl size=801356 sha256=2fcbcdd14c1725da683f9d58cd556a1938f96282ac8130bdeb2ea3206697a90d\n",
            "  Stored in directory: /root/.cache/pip/wheels/d0/85/e1/9361b4cbea7dd4b7f6702fa4c3afc94877952eeb2b62f45f56\n",
            "Successfully built openai-whisper\n",
            "Installing collected packages: tiktoken, openai-whisper\n",
            "\u001b[31mERROR: pip's dependency resolver does not currently take into account all the packages that are installed. This behaviour is the source of the following dependency conflicts.\n",
            "llmx 0.0.15a0 requires cohere, which is not installed.\n",
            "llmx 0.0.15a0 requires openai, which is not installed.\u001b[0m\u001b[31m\n",
            "\u001b[0mSuccessfully installed openai-whisper-20231117 tiktoken-0.5.2\n"
          ]
        }
      ]
    },
    {
      "cell_type": "markdown",
      "source": [
        "#### Само превращение STT"
      ],
      "metadata": {
        "id": "TKzv-WCfkhmU"
      }
    },
    {
      "cell_type": "code",
      "source": [
        "import speech_recognition as sr"
      ],
      "metadata": {
        "id": "o8Gl7ZqWSVmk"
      },
      "execution_count": 13,
      "outputs": []
    },
    {
      "cell_type": "code",
      "source": [
        "r = sr.Recognizer()\n",
        "with sr.AudioFile(\"Vsauce.wav\") as source:\n",
        "    audio = r.record(source)\n",
        "\n",
        "    sphinx_recognition = r.recognize_sphinx(audio)\n",
        "    whisper_recognition = r.recognize_whisper(audio)"
      ],
      "metadata": {
        "id": "9MxzSsF_SVtJ"
      },
      "execution_count": 51,
      "outputs": []
    },
    {
      "cell_type": "markdown",
      "source": [
        "Сравниваем и смеемся, насколько sphinx хуже:"
      ],
      "metadata": {
        "id": "0iPwF5y3_Tpc"
      }
    },
    {
      "cell_type": "code",
      "source": [
        "sphinx_recognition[:200]"
      ],
      "metadata": {
        "colab": {
          "base_uri": "https://localhost:8080/",
          "height": 53
        },
        "id": "smQul05r-01L",
        "outputId": "2d343727-08f9-4a4b-a3cc-fba92702d970"
      },
      "execution_count": 54,
      "outputs": [
        {
          "output_type": "execute_result",
          "data": {
            "text/plain": [
              "'the peace talks like to i have never made an announcement video but what we restore adam savage and i guess he added savage have been working on something delicious and nutritious and wife wants to it'"
            ],
            "application/vnd.google.colaboratory.intrinsic+json": {
              "type": "string"
            }
          },
          "metadata": {},
          "execution_count": 54
        }
      ]
    },
    {
      "cell_type": "code",
      "source": [
        "whisper_recognition[:200]"
      ],
      "metadata": {
        "colab": {
          "base_uri": "https://localhost:8080/",
          "height": 53
        },
        "id": "HMUa4VDG-5he",
        "outputId": "dc0ffbde-b8e0-4097-fb5b-12ea4a61593e"
      },
      "execution_count": 55,
      "outputs": [
        {
          "output_type": "execute_result",
          "data": {
            "text/plain": [
              "' Hey, Vsauce, Michael here. I have never made an announcement video, but what a way to start. Adam Savage and I, yes, the Adam Savage have been working on something delicious and nutritious and live o'"
            ],
            "application/vnd.google.colaboratory.intrinsic+json": {
              "type": "string"
            }
          },
          "metadata": {},
          "execution_count": 55
        }
      ]
    },
    {
      "cell_type": "markdown",
      "source": [
        "Сохраняем в файлы"
      ],
      "metadata": {
        "id": "5q4T7aAo_Yx1"
      }
    },
    {
      "cell_type": "code",
      "source": [
        "with open(\"sphinx.txt\", \"w\") as f:\n",
        "    f.write(sphinx_recognition)"
      ],
      "metadata": {
        "id": "c3fuJpHk_bBs"
      },
      "execution_count": 56,
      "outputs": []
    },
    {
      "cell_type": "code",
      "source": [
        "with open(\"whisper.txt\", \"w\") as f:\n",
        "    f.write(whisper_recognition)"
      ],
      "metadata": {
        "id": "XW4Utrgo_jAd"
      },
      "execution_count": 57,
      "outputs": []
    },
    {
      "cell_type": "markdown",
      "source": [
        "### **? баллов**. библиотека вторая: deepgram"
      ],
      "metadata": {
        "id": "-7FnnvB9yfyp"
      }
    },
    {
      "cell_type": "code",
      "source": [
        "! pip3 install deepgram-sdk"
      ],
      "metadata": {
        "colab": {
          "base_uri": "https://localhost:8080/"
        },
        "id": "q0k9u0yXzfMI",
        "outputId": "6dab3eaa-0fcd-4df5-fc3d-7181845ae4ee"
      },
      "execution_count": 43,
      "outputs": [
        {
          "output_type": "stream",
          "name": "stdout",
          "text": [
            "Collecting deepgram-sdk\n",
            "  Downloading deepgram_sdk-2.12.0-py3-none-any.whl (25 kB)\n",
            "Requirement already satisfied: aiohttp in /usr/local/lib/python3.10/dist-packages (from deepgram-sdk) (3.9.1)\n",
            "Requirement already satisfied: websockets in /usr/local/lib/python3.10/dist-packages (from deepgram-sdk) (12.0)\n",
            "Requirement already satisfied: attrs>=17.3.0 in /usr/local/lib/python3.10/dist-packages (from aiohttp->deepgram-sdk) (23.1.0)\n",
            "Requirement already satisfied: multidict<7.0,>=4.5 in /usr/local/lib/python3.10/dist-packages (from aiohttp->deepgram-sdk) (6.0.4)\n",
            "Requirement already satisfied: yarl<2.0,>=1.0 in /usr/local/lib/python3.10/dist-packages (from aiohttp->deepgram-sdk) (1.9.4)\n",
            "Requirement already satisfied: frozenlist>=1.1.1 in /usr/local/lib/python3.10/dist-packages (from aiohttp->deepgram-sdk) (1.4.0)\n",
            "Requirement already satisfied: aiosignal>=1.1.2 in /usr/local/lib/python3.10/dist-packages (from aiohttp->deepgram-sdk) (1.3.1)\n",
            "Requirement already satisfied: async-timeout<5.0,>=4.0 in /usr/local/lib/python3.10/dist-packages (from aiohttp->deepgram-sdk) (4.0.3)\n",
            "Requirement already satisfied: idna>=2.0 in /usr/local/lib/python3.10/dist-packages (from yarl<2.0,>=1.0->aiohttp->deepgram-sdk) (3.6)\n",
            "Installing collected packages: deepgram-sdk\n",
            "Successfully installed deepgram-sdk-2.12.0\n"
          ]
        }
      ]
    },
    {
      "cell_type": "code",
      "source": [
        "from deepgram import Deepgram"
      ],
      "metadata": {
        "id": "G2Tl0N9wyfHQ"
      },
      "execution_count": 44,
      "outputs": []
    },
    {
      "cell_type": "code",
      "source": [
        "dg_key = '469bf12557e73ca5f81df9499c92c05f3cb87d4e' # успешно создала 🔑, не воруйте, пожалуйста, мне для дз надо\n",
        "dg = Deepgram(dg_key)"
      ],
      "metadata": {
        "id": "vThNsMDEzPEW"
      },
      "execution_count": 45,
      "outputs": []
    },
    {
      "cell_type": "code",
      "source": [
        "import json"
      ],
      "metadata": {
        "id": "TGAGQt_o1jQi"
      },
      "execution_count": 47,
      "outputs": []
    },
    {
      "cell_type": "markdown",
      "source": [
        "Сохраняем сложную систему расшифровок сразу в json, чтобы потом оттуда собрать текст"
      ],
      "metadata": {
        "id": "-_D0qAY2AGrz"
      }
    },
    {
      "cell_type": "code",
      "source": [
        "options = {\n",
        "    \"punctuate\": True,\n",
        "    \"model\": 'general',\n",
        "    \"tier\": 'enhanced'\n",
        "}\n",
        "\n",
        "with open(\"Vsauce.wav\", \"rb\") as f:\n",
        "  source = {\"buffer\": f, \"mimetype\":'audio/wav'}\n",
        "  res = dg.transcription.sync_prerecorded(source, options)\n",
        "  with open(f\"deepgram.json\", \"w\") as transcript:\n",
        "      json.dump(res, transcript)\n"
      ],
      "metadata": {
        "id": "PgRc9t2h0xQX"
      },
      "execution_count": 58,
      "outputs": []
    },
    {
      "cell_type": "code",
      "source": [],
      "metadata": {
        "id": "9HEi1XFlAClZ"
      },
      "execution_count": null,
      "outputs": []
    }
  ]
}